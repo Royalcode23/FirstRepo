{
    "cells": [
        {
            "metadata": {},
            "cell_type": "markdown",
            "source": "<p style=\"text-align:center\">\n    <a href=\"https://skills.network\" target=\"_blank\">\n    <img src=\"https://cf-courses-data.s3.us.cloud-object-storage.appdomain.cloud/assets/logos/SN_web_lightmode.png\" width=\"200\" alt=\"Skills Network Logo\">\n    </a>\n</p>\n\n<h1 align=center><font size = 5>Assignment: SQL Notebook for Peer Assignment</font></h1>\n\nEstimated time needed: **60** minutes.\n\n## Introduction\nUsing this Python notebook you will:\n\n1.  Understand the Spacex DataSet\n2.  Load the dataset  into the corresponding table in a Db2 database\n3.  Execute SQL queries to answer assignment questions \n"
        },
        {
            "metadata": {},
            "cell_type": "markdown",
            "source": "## Overview of the DataSet\n\nSpaceX has gained worldwide attention for a series of historic milestones. \n\nIt is the only private company ever to return a spacecraft from low-earth orbit, which it first accomplished in December 2010.\nSpaceX advertises Falcon 9 rocket launches on its website with a cost of 62 million dollars wheras other providers cost upward of 165 million dollars each, much of the savings is because Space X can reuse the first stage. \n\n\nTherefore if we can determine if the first stage will land, we can determine the cost of a launch. \n\nThis information can be used if an alternate company wants to bid against SpaceX for a rocket launch.\n\nThis dataset includes a record for each payload carried during a SpaceX mission into outer space.\n"
        },
        {
            "metadata": {},
            "cell_type": "markdown",
            "source": "### Download the datasets\n\nThis assignment requires you to load the spacex dataset.\n\nIn many cases the dataset to be analyzed is available as a .CSV (comma separated values) file, perhaps on the internet. Click on the link below to download and save the dataset (.CSV file):\n\n <a href=\"https://cf-courses-data.s3.us.cloud-object-storage.appdomain.cloud/IBM-DS0321EN-SkillsNetwork/labs/module_2/data/Spacex.csv\" target=\"_blank\">Spacex DataSet</a>\n\n"
        },
        {
            "metadata": {
                "tags": []
            },
            "cell_type": "code",
            "source": "!pip install sqlalchemy==1.3.9\n",
            "execution_count": 1,
            "outputs": [
                {
                    "name": "stdout",
                    "output_type": "stream",
                    "text": "Collecting sqlalchemy==1.3.9\n  Downloading SQLAlchemy-1.3.9.tar.gz (6.0 MB)\n\u001b[2K     \u001b[90m\u2501\u2501\u2501\u2501\u2501\u2501\u2501\u2501\u2501\u2501\u2501\u2501\u2501\u2501\u2501\u2501\u2501\u2501\u2501\u2501\u2501\u2501\u2501\u2501\u2501\u2501\u2501\u2501\u2501\u2501\u2501\u2501\u2501\u2501\u2501\u2501\u2501\u2501\u2501\u2501\u001b[0m \u001b[32m6.0/6.0 MB\u001b[0m \u001b[31m69.4 MB/s\u001b[0m eta \u001b[36m0:00:00\u001b[0m:00:01\u001b[0m00:01\u001b[0m\n\u001b[?25h  Preparing metadata (setup.py) ... \u001b[?25ldone\n\u001b[?25hBuilding wheels for collected packages: sqlalchemy\n  Building wheel for sqlalchemy (setup.py) ... \u001b[?25ldone\n\u001b[?25h  Created wheel for sqlalchemy: filename=SQLAlchemy-1.3.9-cp37-cp37m-linux_x86_64.whl size=1159121 sha256=4faac0f0acd517d736d959d52ad955ea91fe47a5a51839880306df446939082f\n  Stored in directory: /home/jupyterlab/.cache/pip/wheels/03/71/13/010faf12246f72dc76b4150e6e599d13a85b4435e06fb9e51f\nSuccessfully built sqlalchemy\nInstalling collected packages: sqlalchemy\n  Attempting uninstall: sqlalchemy\n    Found existing installation: SQLAlchemy 1.3.24\n    Uninstalling SQLAlchemy-1.3.24:\n      Successfully uninstalled SQLAlchemy-1.3.24\nSuccessfully installed sqlalchemy-1.3.9\n"
                }
            ]
        },
        {
            "metadata": {},
            "cell_type": "markdown",
            "source": "### Connect to the database\n\nLet us first load the SQL extension and establish a connection with the database\n"
        },
        {
            "metadata": {
                "tags": []
            },
            "cell_type": "code",
            "source": "%load_ext sql",
            "execution_count": 2,
            "outputs": []
        },
        {
            "metadata": {
                "tags": []
            },
            "cell_type": "code",
            "source": "import csv, sqlite3\n\ncon = sqlite3.connect(\"my_data1.db\")\ncur = con.cursor()",
            "execution_count": 3,
            "outputs": []
        },
        {
            "metadata": {
                "tags": []
            },
            "cell_type": "code",
            "source": "!pip install -q pandas==1.1.5",
            "execution_count": 4,
            "outputs": []
        },
        {
            "metadata": {
                "tags": []
            },
            "cell_type": "code",
            "source": "%sql sqlite:///my_data1.db",
            "execution_count": 5,
            "outputs": [
                {
                    "data": {
                        "text/plain": "'Connected: @my_data1.db'"
                    },
                    "execution_count": 5,
                    "metadata": {},
                    "output_type": "execute_result"
                }
            ]
        },
        {
            "metadata": {
                "tags": []
            },
            "cell_type": "code",
            "source": "import pandas as pd\ndf = pd.read_csv(\"https://cf-courses-data.s3.us.cloud-object-storage.appdomain.cloud/IBM-DS0321EN-SkillsNetwork/labs/module_2/data/Spacex.csv\")\ndf.to_sql(\"SPACEXTBL\", con, if_exists='replace', index=False,method=\"multi\")",
            "execution_count": 6,
            "outputs": [
                {
                    "name": "stderr",
                    "output_type": "stream",
                    "text": "/home/jupyterlab/conda/envs/python/lib/python3.7/site-packages/pandas/core/generic.py:2882: UserWarning: The spaces in these column names will not be changed. In pandas versions < 0.14, spaces were converted to underscores.\n  both result in 0.1234 being formatted as 0.12.\n"
                }
            ]
        },
        {
            "metadata": {},
            "cell_type": "markdown",
            "source": "**Note:This below code is added to remove blank rows from table**\n"
        },
        {
            "metadata": {
                "tags": []
            },
            "cell_type": "code",
            "source": "%sql create table SPACEXTABLE as select * from SPACEXTBL where Date is not null",
            "execution_count": 7,
            "outputs": [
                {
                    "name": "stdout",
                    "output_type": "stream",
                    "text": " * sqlite:///my_data1.db\n(sqlite3.OperationalError) table SPACEXTABLE already exists\n[SQL: create table SPACEXTABLE as select * from SPACEXTBL where Date is not null]\n(Background on this error at: http://sqlalche.me/e/e3q8)\n"
                }
            ]
        },
        {
            "metadata": {},
            "cell_type": "markdown",
            "source": "## Tasks\n\nNow write and execute SQL queries to solve the assignment tasks.\n\n**Note: If the column names are in mixed case enclose it in double quotes\n   For Example \"Landing_Outcome\"**\n\n### Task 1\n\n\n\n\n##### Display the names of the unique launch sites  in the space mission\n"
        },
        {
            "metadata": {
                "tags": []
            },
            "cell_type": "code",
            "source": "%sql select * from SPACEXTABLE LIMIT 0",
            "execution_count": 8,
            "outputs": [
                {
                    "name": "stdout",
                    "output_type": "stream",
                    "text": " * sqlite:///my_data1.db\nDone.\n"
                },
                {
                    "data": {
                        "text/html": "<table>\n    <thead>\n        <tr>\n            <th>Date</th>\n            <th>Time (UTC)</th>\n            <th>Booster_Version</th>\n            <th>Launch_Site</th>\n            <th>Payload</th>\n            <th>PAYLOAD_MASS__KG_</th>\n            <th>Orbit</th>\n            <th>Customer</th>\n            <th>Mission_Outcome</th>\n            <th>Landing_Outcome</th>\n        </tr>\n    </thead>\n    <tbody>\n    </tbody>\n</table>",
                        "text/plain": "[]"
                    },
                    "execution_count": 8,
                    "metadata": {},
                    "output_type": "execute_result"
                }
            ]
        },
        {
            "metadata": {
                "tags": []
            },
            "cell_type": "code",
            "source": "%sql select distinct \"Launch_Site\" from SPACEXTABLE",
            "execution_count": 9,
            "outputs": [
                {
                    "name": "stdout",
                    "output_type": "stream",
                    "text": " * sqlite:///my_data1.db\nDone.\n"
                },
                {
                    "data": {
                        "text/html": "<table>\n    <thead>\n        <tr>\n            <th>Launch_Site</th>\n        </tr>\n    </thead>\n    <tbody>\n        <tr>\n            <td>CCAFS LC-40</td>\n        </tr>\n        <tr>\n            <td>VAFB SLC-4E</td>\n        </tr>\n        <tr>\n            <td>KSC LC-39A</td>\n        </tr>\n        <tr>\n            <td>CCAFS SLC-40</td>\n        </tr>\n    </tbody>\n</table>",
                        "text/plain": "[('CCAFS LC-40',), ('VAFB SLC-4E',), ('KSC LC-39A',), ('CCAFS SLC-40',)]"
                    },
                    "execution_count": 9,
                    "metadata": {},
                    "output_type": "execute_result"
                }
            ]
        },
        {
            "metadata": {
                "tags": []
            },
            "cell_type": "code",
            "source": "%sql select * from SPACEXTABLE LIMIT 0",
            "execution_count": 10,
            "outputs": [
                {
                    "name": "stdout",
                    "output_type": "stream",
                    "text": " * sqlite:///my_data1.db\nDone.\n"
                },
                {
                    "data": {
                        "text/html": "<table>\n    <thead>\n        <tr>\n            <th>Date</th>\n            <th>Time (UTC)</th>\n            <th>Booster_Version</th>\n            <th>Launch_Site</th>\n            <th>Payload</th>\n            <th>PAYLOAD_MASS__KG_</th>\n            <th>Orbit</th>\n            <th>Customer</th>\n            <th>Mission_Outcome</th>\n            <th>Landing_Outcome</th>\n        </tr>\n    </thead>\n    <tbody>\n    </tbody>\n</table>",
                        "text/plain": "[]"
                    },
                    "execution_count": 10,
                    "metadata": {},
                    "output_type": "execute_result"
                }
            ]
        },
        {
            "metadata": {},
            "cell_type": "markdown",
            "source": "\n### Task 2\n\n\n#####  Display 5 records where launch sites begin with the string 'CCA' \n"
        },
        {
            "metadata": {
                "tags": []
            },
            "cell_type": "code",
            "source": "%sql select \"Launch_Site\" from SPACEXTABLE where \"Launch_site\" like 'CCA%' limit 5",
            "execution_count": 11,
            "outputs": [
                {
                    "name": "stdout",
                    "output_type": "stream",
                    "text": " * sqlite:///my_data1.db\nDone.\n"
                },
                {
                    "data": {
                        "text/html": "<table>\n    <thead>\n        <tr>\n            <th>Launch_Site</th>\n        </tr>\n    </thead>\n    <tbody>\n        <tr>\n            <td>CCAFS LC-40</td>\n        </tr>\n        <tr>\n            <td>CCAFS LC-40</td>\n        </tr>\n        <tr>\n            <td>CCAFS LC-40</td>\n        </tr>\n        <tr>\n            <td>CCAFS LC-40</td>\n        </tr>\n        <tr>\n            <td>CCAFS LC-40</td>\n        </tr>\n    </tbody>\n</table>",
                        "text/plain": "[('CCAFS LC-40',),\n ('CCAFS LC-40',),\n ('CCAFS LC-40',),\n ('CCAFS LC-40',),\n ('CCAFS LC-40',)]"
                    },
                    "execution_count": 11,
                    "metadata": {},
                    "output_type": "execute_result"
                }
            ]
        },
        {
            "metadata": {},
            "cell_type": "markdown",
            "source": "### Task 3\n\n\n\n\n##### Display the total payload mass carried by boosters launched by NASA (CRS)\n"
        },
        {
            "metadata": {
                "tags": []
            },
            "cell_type": "code",
            "source": "%sql select \"Customer\", SUM(PAYLOAD_MASS__KG_) as total_payload_mass from spacextable where \"Customer\" like '%CRS%'",
            "execution_count": 12,
            "outputs": [
                {
                    "name": "stdout",
                    "output_type": "stream",
                    "text": " * sqlite:///my_data1.db\nDone.\n"
                },
                {
                    "data": {
                        "text/html": "<table>\n    <thead>\n        <tr>\n            <th>Customer</th>\n            <th>total_payload_mass</th>\n        </tr>\n    </thead>\n    <tbody>\n        <tr>\n            <td>NASA (CRS)</td>\n            <td>48213</td>\n        </tr>\n    </tbody>\n</table>",
                        "text/plain": "[('NASA (CRS)', 48213)]"
                    },
                    "execution_count": 12,
                    "metadata": {},
                    "output_type": "execute_result"
                }
            ]
        },
        {
            "metadata": {},
            "cell_type": "markdown",
            "source": "### Task 4\n\n\n\n\n##### Display average payload mass carried by booster version F9 v1.1\n"
        },
        {
            "metadata": {
                "tags": []
            },
            "cell_type": "code",
            "source": "%sql select \"Booster_Version\", SUM(PAYLOAD_MASS__KG_) AS TOTAL_PAYLOAD_MASS from spacextable where \"Booster_Version\" like \"F9 v1.1\"",
            "execution_count": 14,
            "outputs": [
                {
                    "name": "stdout",
                    "output_type": "stream",
                    "text": " * sqlite:///my_data1.db\nDone.\n"
                },
                {
                    "data": {
                        "text/html": "<table>\n    <thead>\n        <tr>\n            <th>Booster_Version</th>\n            <th>TOTAL_PAYLOAD_MASS</th>\n        </tr>\n    </thead>\n    <tbody>\n        <tr>\n            <td>F9 v1.1</td>\n            <td>14642</td>\n        </tr>\n    </tbody>\n</table>",
                        "text/plain": "[('F9 v1.1', 14642)]"
                    },
                    "execution_count": 14,
                    "metadata": {},
                    "output_type": "execute_result"
                }
            ]
        },
        {
            "metadata": {},
            "cell_type": "markdown",
            "source": "### Task 5\n\n##### List the date when the first succesful landing outcome in ground pad was acheived.\n\n\n_Hint:Use min function_ \n"
        },
        {
            "metadata": {
                "tags": []
            },
            "cell_type": "code",
            "source": "%sql select * from spacextable limit 0",
            "execution_count": 15,
            "outputs": [
                {
                    "name": "stdout",
                    "output_type": "stream",
                    "text": " * sqlite:///my_data1.db\nDone.\n"
                },
                {
                    "data": {
                        "text/html": "<table>\n    <thead>\n        <tr>\n            <th>Date</th>\n            <th>Time (UTC)</th>\n            <th>Booster_Version</th>\n            <th>Launch_Site</th>\n            <th>Payload</th>\n            <th>PAYLOAD_MASS__KG_</th>\n            <th>Orbit</th>\n            <th>Customer</th>\n            <th>Mission_Outcome</th>\n            <th>Landing_Outcome</th>\n        </tr>\n    </thead>\n    <tbody>\n    </tbody>\n</table>",
                        "text/plain": "[]"
                    },
                    "execution_count": 15,
                    "metadata": {},
                    "output_type": "execute_result"
                }
            ]
        },
        {
            "metadata": {
                "tags": []
            },
            "cell_type": "code",
            "source": "%sql select MIN(\"Date\"), \"Landing_Outcome\" from spacextable where \"Landing_Outcome\" like \"%Success (ground pad)%\" ",
            "execution_count": 33,
            "outputs": [
                {
                    "name": "stdout",
                    "output_type": "stream",
                    "text": " * sqlite:///my_data1.db\nDone.\n"
                },
                {
                    "data": {
                        "text/html": "<table>\n    <thead>\n        <tr>\n            <th>MIN(&quot;Date&quot;)</th>\n            <th>Landing_Outcome</th>\n        </tr>\n    </thead>\n    <tbody>\n        <tr>\n            <td>2015-12-22</td>\n            <td>Success (ground pad)</td>\n        </tr>\n    </tbody>\n</table>",
                        "text/plain": "[('2015-12-22', 'Success (ground pad)')]"
                    },
                    "execution_count": 33,
                    "metadata": {},
                    "output_type": "execute_result"
                }
            ]
        },
        {
            "metadata": {},
            "cell_type": "markdown",
            "source": "### Task 6\n\n##### List the names of the boosters which have success in drone ship and have payload mass greater than 4000 but less than 6000\n"
        },
        {
            "metadata": {
                "tags": []
            },
            "cell_type": "code",
            "source": "%sql select \"Booster_Version\", \"Landing_Outcome\", PAYLOAD_MASS__KG_ as payload_mass from spacextable where \"Landing_Outcome\" = 'Success (drone ship)' and PAYLOAD_MASS__KG_ between 4000 and 6000",
            "execution_count": 37,
            "outputs": [
                {
                    "name": "stdout",
                    "output_type": "stream",
                    "text": " * sqlite:///my_data1.db\nDone.\n"
                },
                {
                    "data": {
                        "text/html": "<table>\n    <thead>\n        <tr>\n            <th>Booster_Version</th>\n            <th>Landing_Outcome</th>\n            <th>payload_mass</th>\n        </tr>\n    </thead>\n    <tbody>\n        <tr>\n            <td>F9 FT B1022</td>\n            <td>Success (drone ship)</td>\n            <td>4696</td>\n        </tr>\n        <tr>\n            <td>F9 FT B1026</td>\n            <td>Success (drone ship)</td>\n            <td>4600</td>\n        </tr>\n        <tr>\n            <td>F9 FT  B1021.2</td>\n            <td>Success (drone ship)</td>\n            <td>5300</td>\n        </tr>\n        <tr>\n            <td>F9 FT  B1031.2</td>\n            <td>Success (drone ship)</td>\n            <td>5200</td>\n        </tr>\n    </tbody>\n</table>",
                        "text/plain": "[('F9 FT B1022', 'Success (drone ship)', 4696),\n ('F9 FT B1026', 'Success (drone ship)', 4600),\n ('F9 FT  B1021.2', 'Success (drone ship)', 5300),\n ('F9 FT  B1031.2', 'Success (drone ship)', 5200)]"
                    },
                    "execution_count": 37,
                    "metadata": {},
                    "output_type": "execute_result"
                }
            ]
        },
        {
            "metadata": {},
            "cell_type": "markdown",
            "source": "### Task 7\n\n\n\n\n##### List the total number of successful and failure mission outcomes\n"
        },
        {
            "metadata": {
                "tags": []
            },
            "cell_type": "code",
            "source": "%sql select distinct \"Mission_Outcome\" from spacextable",
            "execution_count": 39,
            "outputs": [
                {
                    "name": "stdout",
                    "output_type": "stream",
                    "text": " * sqlite:///my_data1.db\nDone.\n"
                },
                {
                    "data": {
                        "text/html": "<table>\n    <thead>\n        <tr>\n            <th>Mission_Outcome</th>\n        </tr>\n    </thead>\n    <tbody>\n        <tr>\n            <td>Success</td>\n        </tr>\n        <tr>\n            <td>Failure (in flight)</td>\n        </tr>\n        <tr>\n            <td>Success (payload status unclear)</td>\n        </tr>\n        <tr>\n            <td>Success </td>\n        </tr>\n    </tbody>\n</table>",
                        "text/plain": "[('Success',),\n ('Failure (in flight)',),\n ('Success (payload status unclear)',),\n ('Success ',)]"
                    },
                    "execution_count": 39,
                    "metadata": {},
                    "output_type": "execute_result"
                }
            ]
        },
        {
            "metadata": {
                "tags": []
            },
            "cell_type": "code",
            "source": "%sql select \"Mission_Outcome\", count(\"Mission_Outcome\") from spacextable group by \"Mission_Outcome\"",
            "execution_count": 42,
            "outputs": [
                {
                    "name": "stdout",
                    "output_type": "stream",
                    "text": " * sqlite:///my_data1.db\nDone.\n"
                },
                {
                    "data": {
                        "text/html": "<table>\n    <thead>\n        <tr>\n            <th>Mission_Outcome</th>\n            <th>count(&quot;Mission_Outcome&quot;)</th>\n        </tr>\n    </thead>\n    <tbody>\n        <tr>\n            <td>Failure (in flight)</td>\n            <td>1</td>\n        </tr>\n        <tr>\n            <td>Success</td>\n            <td>98</td>\n        </tr>\n        <tr>\n            <td>Success </td>\n            <td>1</td>\n        </tr>\n        <tr>\n            <td>Success (payload status unclear)</td>\n            <td>1</td>\n        </tr>\n    </tbody>\n</table>",
                        "text/plain": "[('Failure (in flight)', 1),\n ('Success', 98),\n ('Success ', 1),\n ('Success (payload status unclear)', 1)]"
                    },
                    "execution_count": 42,
                    "metadata": {},
                    "output_type": "execute_result"
                }
            ]
        },
        {
            "metadata": {},
            "cell_type": "markdown",
            "source": "### Task 8\n\n\n\n##### List the   names of the booster_versions which have carried the maximum payload mass. Use a subquery\n"
        },
        {
            "metadata": {
                "tags": []
            },
            "cell_type": "code",
            "source": "%sql select \"Booster_Version\", PAYLOAD_MASS__KG_ as max_payload_mass from spacextable where PAYLOAD_MASS__KG_ = (select MAX(PAYLOAD_MASS__KG_) from spacextable)",
            "execution_count": 48,
            "outputs": [
                {
                    "name": "stdout",
                    "output_type": "stream",
                    "text": " * sqlite:///my_data1.db\nDone.\n"
                },
                {
                    "data": {
                        "text/html": "<table>\n    <thead>\n        <tr>\n            <th>Booster_Version</th>\n            <th>max_payload_mass</th>\n        </tr>\n    </thead>\n    <tbody>\n        <tr>\n            <td>F9 B5 B1048.4</td>\n            <td>15600</td>\n        </tr>\n        <tr>\n            <td>F9 B5 B1049.4</td>\n            <td>15600</td>\n        </tr>\n        <tr>\n            <td>F9 B5 B1051.3</td>\n            <td>15600</td>\n        </tr>\n        <tr>\n            <td>F9 B5 B1056.4</td>\n            <td>15600</td>\n        </tr>\n        <tr>\n            <td>F9 B5 B1048.5</td>\n            <td>15600</td>\n        </tr>\n        <tr>\n            <td>F9 B5 B1051.4</td>\n            <td>15600</td>\n        </tr>\n        <tr>\n            <td>F9 B5 B1049.5</td>\n            <td>15600</td>\n        </tr>\n        <tr>\n            <td>F9 B5 B1060.2 </td>\n            <td>15600</td>\n        </tr>\n        <tr>\n            <td>F9 B5 B1058.3 </td>\n            <td>15600</td>\n        </tr>\n        <tr>\n            <td>F9 B5 B1051.6</td>\n            <td>15600</td>\n        </tr>\n        <tr>\n            <td>F9 B5 B1060.3</td>\n            <td>15600</td>\n        </tr>\n        <tr>\n            <td>F9 B5 B1049.7 </td>\n            <td>15600</td>\n        </tr>\n    </tbody>\n</table>",
                        "text/plain": "[('F9 B5 B1048.4', 15600),\n ('F9 B5 B1049.4', 15600),\n ('F9 B5 B1051.3', 15600),\n ('F9 B5 B1056.4', 15600),\n ('F9 B5 B1048.5', 15600),\n ('F9 B5 B1051.4', 15600),\n ('F9 B5 B1049.5', 15600),\n ('F9 B5 B1060.2 ', 15600),\n ('F9 B5 B1058.3 ', 15600),\n ('F9 B5 B1051.6', 15600),\n ('F9 B5 B1060.3', 15600),\n ('F9 B5 B1049.7 ', 15600)]"
                    },
                    "execution_count": 48,
                    "metadata": {},
                    "output_type": "execute_result"
                }
            ]
        },
        {
            "metadata": {},
            "cell_type": "markdown",
            "source": "### Task 9\n\n\n##### List the records which will display the month names, failure landing_outcomes in drone ship ,booster versions, launch_site for the months in year 2015.\n\n**Note: SQLLite does not support monthnames. So you need to use  substr(Date, 4, 2) as month to get the months and substr(Date,7,4)='2015' for year.**\n"
        },
        {
            "metadata": {
                "tags": []
            },
            "cell_type": "code",
            "source": "%sql select substr(Date,6,2) as month, \"Date\", \"Landing_Outcome\", \"Booster_Version\", \"Launch_Site\" from spacextable where \"Landing_Outcome\" = \"Failure (drone ship)\" and \"Date\" like '2015%'",
            "execution_count": 67,
            "outputs": [
                {
                    "name": "stdout",
                    "output_type": "stream",
                    "text": " * sqlite:///my_data1.db\nDone.\n"
                },
                {
                    "data": {
                        "text/html": "<table>\n    <thead>\n        <tr>\n            <th>month</th>\n            <th>Date</th>\n            <th>Landing_Outcome</th>\n            <th>Booster_Version</th>\n            <th>Launch_Site</th>\n        </tr>\n    </thead>\n    <tbody>\n        <tr>\n            <td>10</td>\n            <td>2015-10-01</td>\n            <td>Failure (drone ship)</td>\n            <td>F9 v1.1 B1012</td>\n            <td>CCAFS LC-40</td>\n        </tr>\n        <tr>\n            <td>04</td>\n            <td>2015-04-14</td>\n            <td>Failure (drone ship)</td>\n            <td>F9 v1.1 B1015</td>\n            <td>CCAFS LC-40</td>\n        </tr>\n    </tbody>\n</table>",
                        "text/plain": "[('10', '2015-10-01', 'Failure (drone ship)', 'F9 v1.1 B1012', 'CCAFS LC-40'),\n ('04', '2015-04-14', 'Failure (drone ship)', 'F9 v1.1 B1015', 'CCAFS LC-40')]"
                    },
                    "execution_count": 67,
                    "metadata": {},
                    "output_type": "execute_result"
                }
            ]
        },
        {
            "metadata": {},
            "cell_type": "markdown",
            "source": "### Task 10\n\n\n\n\n##### Rank the count of landing outcomes (such as Failure (drone ship) or Success (ground pad)) between the date 2010-06-04 and 2017-03-20, in descending order.\n"
        },
        {
            "metadata": {},
            "cell_type": "markdown",
            "source": "##### The Below code includes a misleading date column because it only displays the first dates of each landing outcome (so date column can be excluded) but does give correct total count by Landing Outcome. "
        },
        {
            "metadata": {
                "tags": []
            },
            "cell_type": "code",
            "source": "%sql select count(\"Landing_Outcomes\") as total_count, \"Landing_Outcome\", \"Date\" from spacextable where \"Date\" between '2010-06-04' and '2017-03-20' group by \"Landing_Outcome\" order by total_count desc",
            "execution_count": 71,
            "outputs": [
                {
                    "name": "stdout",
                    "output_type": "stream",
                    "text": " * sqlite:///my_data1.db\nDone.\n"
                },
                {
                    "data": {
                        "text/html": "<table>\n    <thead>\n        <tr>\n            <th>total_count</th>\n            <th>Landing_Outcome</th>\n            <th>Date</th>\n        </tr>\n    </thead>\n    <tbody>\n        <tr>\n            <td>10</td>\n            <td>No attempt</td>\n            <td>2012-05-22</td>\n        </tr>\n        <tr>\n            <td>5</td>\n            <td>Success (ground pad)</td>\n            <td>2015-12-22</td>\n        </tr>\n        <tr>\n            <td>5</td>\n            <td>Success (drone ship)</td>\n            <td>2016-08-04</td>\n        </tr>\n        <tr>\n            <td>5</td>\n            <td>Failure (drone ship)</td>\n            <td>2015-10-01</td>\n        </tr>\n        <tr>\n            <td>3</td>\n            <td>Controlled (ocean)</td>\n            <td>2014-04-18</td>\n        </tr>\n        <tr>\n            <td>2</td>\n            <td>Uncontrolled (ocean)</td>\n            <td>2013-09-29</td>\n        </tr>\n        <tr>\n            <td>1</td>\n            <td>Precluded (drone ship)</td>\n            <td>2015-06-28</td>\n        </tr>\n        <tr>\n            <td>1</td>\n            <td>Failure (parachute)</td>\n            <td>2010-08-12</td>\n        </tr>\n    </tbody>\n</table>",
                        "text/plain": "[(10, 'No attempt', '2012-05-22'),\n (5, 'Success (ground pad)', '2015-12-22'),\n (5, 'Success (drone ship)', '2016-08-04'),\n (5, 'Failure (drone ship)', '2015-10-01'),\n (3, 'Controlled (ocean)', '2014-04-18'),\n (2, 'Uncontrolled (ocean)', '2013-09-29'),\n (1, 'Precluded (drone ship)', '2015-06-28'),\n (1, 'Failure (parachute)', '2010-08-12')]"
                    },
                    "execution_count": 71,
                    "metadata": {},
                    "output_type": "execute_result"
                }
            ]
        },
        {
            "metadata": {},
            "cell_type": "markdown",
            "source": "### Reference Links\n\n* <a href =\"https://cf-courses-data.s3.us.cloud-object-storage.appdomain.cloud/IBMDeveloperSkillsNetwork-DB0201EN-SkillsNetwork/labs/Labs_Coursera_V5/labs/Lab%20-%20String%20Patterns%20-%20Sorting%20-%20Grouping/instructional-labs.md.html?origin=www.coursera.org\">Hands-on Lab : String Patterns, Sorting and Grouping</a>  \n\n*  <a  href=\"https://cf-courses-data.s3.us.cloud-object-storage.appdomain.cloud/IBMDeveloperSkillsNetwork-DB0201EN-SkillsNetwork/labs/Labs_Coursera_V5/labs/Lab%20-%20Built-in%20functions%20/Hands-on_Lab__Built-in_Functions.md.html?origin=www.coursera.org\">Hands-on Lab: Built-in functions</a>\n\n*  <a  href=\"https://cf-courses-data.s3.us.cloud-object-storage.appdomain.cloud/IBMDeveloperSkillsNetwork-DB0201EN-SkillsNetwork/labs/Labs_Coursera_V5/labs/Lab%20-%20Sub-queries%20and%20Nested%20SELECTs%20/instructional-labs.md.html?origin=www.coursera.org\">Hands-on Lab : Sub-queries and Nested SELECT Statements</a>\n\n*   <a href=\"https://cf-courses-data.s3.us.cloud-object-storage.appdomain.cloud/IBMDeveloperSkillsNetwork-DB0201EN-SkillsNetwork/labs/Module%205/DB0201EN-Week3-1-3-SQLmagic.ipynb\">Hands-on Tutorial: Accessing Databases with SQL magic</a>\n\n*  <a href= \"https://cf-courses-data.s3.us.cloud-object-storage.appdomain.cloud/IBMDeveloperSkillsNetwork-DB0201EN-SkillsNetwork/labs/Module%205/DB0201EN-Week3-1-4-Analyzing.ipynb\">Hands-on Lab: Analyzing a real World Data Set</a>\n\n\n"
        },
        {
            "metadata": {},
            "cell_type": "markdown",
            "source": "## Author(s)\n\n<h4> Lakshmi Holla </h4>\n"
        },
        {
            "metadata": {},
            "cell_type": "markdown",
            "source": "## Other Contributors\n\n<h4> Rav Ahuja </h4>\n"
        },
        {
            "metadata": {},
            "cell_type": "markdown",
            "source": "## Change log\n| Date | Version | Changed by | Change Description |\n|------|--------|--------|---------|\n| 2021-07-09 | 0.2 |Lakshmi Holla | Changes made in magic sql|\n| 2021-05-20 | 0.1 |Lakshmi Holla | Created Initial Version |\n"
        },
        {
            "metadata": {},
            "cell_type": "markdown",
            "source": "## <h3 align=\"center\"> \u00a9 IBM Corporation 2021. All rights reserved. <h3/>\n"
        }
    ],
    "metadata": {
        "kernelspec": {
            "name": "python3",
            "display_name": "Python 3.10",
            "language": "python"
        },
        "language_info": {
            "name": "python",
            "version": "3.10.9",
            "mimetype": "text/x-python",
            "codemirror_mode": {
                "name": "ipython",
                "version": 3
            },
            "pygments_lexer": "ipython3",
            "nbconvert_exporter": "python",
            "file_extension": ".py"
        }
    },
    "nbformat": 4,
    "nbformat_minor": 4
}